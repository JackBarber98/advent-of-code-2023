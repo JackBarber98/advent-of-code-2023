{
 "cells": [
  {
   "cell_type": "markdown",
   "metadata": {},
   "source": [
    "This is all the helper functions"
   ]
  },
  {
   "cell_type": "code",
   "execution_count": 202,
   "metadata": {},
   "outputs": [],
   "source": [
    "INPUT_PATH = './inputs/day_2.txt'"
   ]
  },
  {
   "cell_type": "code",
   "execution_count": 203,
   "metadata": {},
   "outputs": [],
   "source": [
    "RED = 'red'\n",
    "BLUE = 'blue'\n",
    "GREEN = 'green'\n",
    "\n",
    "MAX_ALLOWED_RED_COUNT = 12\n",
    "MAX_ALLOWED_BLUE_COUNT = 14\n",
    "MAX_ALLOWED_GREEN_COUNT = 13"
   ]
  },
  {
   "cell_type": "code",
   "execution_count": 204,
   "metadata": {},
   "outputs": [],
   "source": [
    "def get_draws_from_game(game):\n",
    "    return game.partition(':')[-1].split(';')"
   ]
  },
  {
   "cell_type": "code",
   "execution_count": 205,
   "metadata": {},
   "outputs": [],
   "source": [
    "def get_game_id(game):\n",
    "    return int(''.join(filter(lambda x: x.isdigit(), game.split(':')[0])))"
   ]
  },
  {
   "cell_type": "code",
   "execution_count": 206,
   "metadata": {},
   "outputs": [],
   "source": [
    "def get_colour_and_count(instance):\n",
    "    colour = ''.join(filter(lambda x: x.isalpha(), instance))\n",
    "    count = int(''.join(filter(lambda x: x.isdigit(), instance)))\n",
    "    return colour, count"
   ]
  },
  {
   "cell_type": "code",
   "execution_count": 207,
   "metadata": {},
   "outputs": [],
   "source": [
    "def is_above_max_count(colour, count):\n",
    "    match colour:\n",
    "        case 'red':\n",
    "            if count > MAX_ALLOWED_RED_COUNT:\n",
    "                return True\n",
    "        case 'blue':\n",
    "            if count > MAX_ALLOWED_BLUE_COUNT:\n",
    "                return True\n",
    "        case 'green':\n",
    "            if count > MAX_ALLOWED_GREEN_COUNT:\n",
    "                return True"
   ]
  },
  {
   "cell_type": "code",
   "execution_count": 208,
   "metadata": {},
   "outputs": [],
   "source": [
    "def get_power(greatest_red, greatest_blue, greatest_green):\n",
    "    return greatest_red * greatest_blue * greatest_green"
   ]
  },
  {
   "cell_type": "code",
   "execution_count": 209,
   "metadata": {},
   "outputs": [],
   "source": [
    "def get_ids_and_powers(game):\n",
    "    game_id = get_game_id(game)\n",
    "    draws = get_draws_from_game(game)\n",
    "\n",
    "    greatest_red = 0\n",
    "    greatest_blue = 0\n",
    "    greatest_green = 0\n",
    "    for draw in draws:\n",
    "        for instance in draw.split(','):\n",
    "            colour, count = get_colour_and_count(instance)\n",
    "            if colour == RED and count > greatest_red:\n",
    "                greatest_red = count\n",
    "            elif colour == BLUE and count > greatest_blue:\n",
    "                greatest_blue = count\n",
    "            elif colour == GREEN and count > greatest_green:\n",
    "                greatest_green = count\n",
    "\n",
    "            if is_above_max_count(colour, count):\n",
    "                game_id = 0\n",
    "    \n",
    "    power = get_power(greatest_red, greatest_blue, greatest_green)\n",
    "    return { 'id': game_id, 'power': power }\n",
    "\n",
    "\n",
    "    "
   ]
  },
  {
   "cell_type": "code",
   "execution_count": 210,
   "metadata": {},
   "outputs": [],
   "source": [
    "def get_results(line):\n",
    "    line = line.strip().replace(\" \", \"\")\n",
    "    return get_ids_and_powers(line)"
   ]
  },
  {
   "cell_type": "code",
   "execution_count": 211,
   "metadata": {},
   "outputs": [],
   "source": [
    "def get_sum(key_to_sum, results):\n",
    "    return sum(result[key_to_sum] for result in results)"
   ]
  },
  {
   "cell_type": "markdown",
   "metadata": {},
   "source": [
    "This is the main code block"
   ]
  },
  {
   "cell_type": "code",
   "execution_count": 214,
   "metadata": {},
   "outputs": [
    {
     "name": "stdout",
     "output_type": "stream",
     "text": [
      "sum of game ids:  3059\n",
      "sum of powers:  65371\n"
     ]
    }
   ],
   "source": [
    "ID = 'id'\n",
    "POWER = 'power'\n",
    "\n",
    "with open(INPUT_PATH, 'r') as file:\n",
    "    results = [get_results(line) for line in file]\n",
    "    id_sum = get_sum(ID, results)\n",
    "    powers_sum = get_sum(POWER, results)\n",
    "\n",
    "    print(f'sum of game {ID}s: ', id_sum)\n",
    "    print(f'sum of {POWER}s: ', powers_sum)"
   ]
  }
 ],
 "metadata": {
  "kernelspec": {
   "display_name": "Python 3",
   "language": "python",
   "name": "python3"
  },
  "language_info": {
   "codemirror_mode": {
    "name": "ipython",
    "version": 3
   },
   "file_extension": ".py",
   "mimetype": "text/x-python",
   "name": "python",
   "nbconvert_exporter": "python",
   "pygments_lexer": "ipython3",
   "version": "3.12.1"
  }
 },
 "nbformat": 4,
 "nbformat_minor": 2
}
